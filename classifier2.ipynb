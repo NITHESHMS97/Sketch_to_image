{
  "nbformat": 4,
  "nbformat_minor": 0,
  "metadata": {
    "colab": {
      "name": "classifier2.ipynb",
      "version": "0.3.2",
      "provenance": []
    },
    "kernelspec": {
      "name": "python3",
      "display_name": "Python 3"
    },
    "accelerator": "GPU"
  },
  "cells": [
    {
      "metadata": {
        "id": "sZ_bLmC80A8o",
        "colab_type": "code",
        "colab": {}
      },
      "cell_type": "code",
      "source": [
        "from google.colab import drive"
      ],
      "execution_count": 0,
      "outputs": []
    },
    {
      "metadata": {
        "id": "kiFElijU0Cfn",
        "colab_type": "code",
        "colab": {
          "base_uri": "https://localhost:8080/",
          "height": 34
        },
        "outputId": "8ee28417-18b7-428d-de66-a89f4faa87dc"
      },
      "cell_type": "code",
      "source": [
        "!ls"
      ],
      "execution_count": 2,
      "outputs": [
        {
          "output_type": "stream",
          "text": [
            "sample_data\n"
          ],
          "name": "stdout"
        }
      ]
    },
    {
      "metadata": {
        "colab_type": "code",
        "outputId": "b84709f3-78c7-463e-ce10-093e4ed4c86e",
        "id": "Xt0zHg040Ku3",
        "colab": {
          "base_uri": "https://localhost:8080/",
          "height": 122
        }
      },
      "cell_type": "code",
      "source": [
        "drive.mount('/content/gdrive')\n",
        "\n"
      ],
      "execution_count": 3,
      "outputs": [
        {
          "output_type": "stream",
          "text": [
            "Go to this URL in a browser: https://accounts.google.com/o/oauth2/auth?client_id=947318989803-6bn6qk8qdgf4n4g3pfee6491hc0brc4i.apps.googleusercontent.com&redirect_uri=urn%3Aietf%3Awg%3Aoauth%3A2.0%3Aoob&scope=email%20https%3A%2F%2Fwww.googleapis.com%2Fauth%2Fdocs.test%20https%3A%2F%2Fwww.googleapis.com%2Fauth%2Fdrive%20https%3A%2F%2Fwww.googleapis.com%2Fauth%2Fdrive.photos.readonly%20https%3A%2F%2Fwww.googleapis.com%2Fauth%2Fpeopleapi.readonly&response_type=code\n",
            "\n",
            "Enter your authorization code:\n",
            "··········\n",
            "Mounted at /content/gdrive\n"
          ],
          "name": "stdout"
        }
      ]
    },
    {
      "metadata": {
        "colab_type": "code",
        "id": "Au-9AKLW0J9b",
        "colab": {}
      },
      "cell_type": "code",
      "source": [
        "!cp -r \"/content/gdrive/My Drive/dataset/sketches/\" ."
      ],
      "execution_count": 0,
      "outputs": []
    },
    {
      "metadata": {
        "id": "iVcJPlhCf9Xl",
        "colab_type": "code",
        "outputId": "d618280a-3cab-4c87-ce95-3b1c437d1925",
        "colab": {
          "base_uri": "https://localhost:8080/",
          "height": 51
        }
      },
      "cell_type": "code",
      "source": [
        "!ls 'sketches/'"
      ],
      "execution_count": 6,
      "outputs": [
        {
          "output_type": "stream",
          "text": [
            " airplane   bicycle\t   cat\t  dog\t horse\n",
            " bat\t   'car_(sedan)'   deer   frog\t sailboat\n"
          ],
          "name": "stdout"
        }
      ]
    },
    {
      "metadata": {
        "id": "mk5eYUpN166C",
        "colab_type": "code",
        "colab": {
          "base_uri": "https://localhost:8080/",
          "height": 34
        },
        "outputId": "839aea56-e597-4833-be3a-a93145b8cecf"
      },
      "cell_type": "code",
      "source": [
        "import keras\n",
        "from keras import models\n",
        "from keras import layers\n",
        "from keras.preprocessing.image import ImageDataGenerator\n",
        "from keras import optimizers"
      ],
      "execution_count": 8,
      "outputs": [
        {
          "output_type": "stream",
          "text": [
            "Using TensorFlow backend.\n"
          ],
          "name": "stderr"
        }
      ]
    },
    {
      "metadata": {
        "id": "VojN3N3r_sCz",
        "colab_type": "code",
        "colab": {}
      },
      "cell_type": "code",
      "source": [
        "train_datagen = ImageDataGenerator(\n",
        "          rescale=1./255,\n",
        "          rotation_range = 20,\n",
        "          width_shift_range = 0.2,\n",
        "          height_shift_range = 0.2,\n",
        "          horizontal_flip = True,\n",
        ")"
      ],
      "execution_count": 0,
      "outputs": []
    },
    {
      "metadata": {
        "id": "IQ2fJSgc_2Gg",
        "colab_type": "code",
        "colab": {
          "base_uri": "https://localhost:8080/",
          "height": 34
        },
        "outputId": "8bce3692-85d8-4f5a-bfcc-476aa1f5b494"
      },
      "cell_type": "code",
      "source": [
        "train_set = train_datagen.flow_from_directory(\n",
        "        './sketches/',\n",
        "        batch_size = 20,\n",
        "        class_mode='categorical',\n",
        "        shuffle=True\n",
        ")"
      ],
      "execution_count": 12,
      "outputs": [
        {
          "output_type": "stream",
          "text": [
            "Found 5508 images belonging to 10 classes.\n"
          ],
          "name": "stdout"
        }
      ]
    },
    {
      "metadata": {
        "id": "KyTEgeS__5By",
        "colab_type": "code",
        "colab": {
          "base_uri": "https://localhost:8080/",
          "height": 187
        },
        "outputId": "a9124c87-bfef-4a48-b464-c31be31792a9"
      },
      "cell_type": "code",
      "source": [
        "train_set.class_indices"
      ],
      "execution_count": 13,
      "outputs": [
        {
          "output_type": "execute_result",
          "data": {
            "text/plain": [
              "{'airplane': 0,\n",
              " 'bat': 1,\n",
              " 'bicycle': 2,\n",
              " 'car_(sedan)': 3,\n",
              " 'cat': 4,\n",
              " 'deer': 5,\n",
              " 'dog': 6,\n",
              " 'frog': 7,\n",
              " 'horse': 8,\n",
              " 'sailboat': 9}"
            ]
          },
          "metadata": {
            "tags": []
          },
          "execution_count": 13
        }
      ]
    },
    {
      "metadata": {
        "id": "tQEEdd1O__Ko",
        "colab_type": "code",
        "colab": {}
      },
      "cell_type": "code",
      "source": [
        "import matplotlib.pyplot as plt"
      ],
      "execution_count": 0,
      "outputs": []
    },
    {
      "metadata": {
        "id": "bhQqPsHbACfL",
        "colab_type": "code",
        "colab": {}
      },
      "cell_type": "code",
      "source": [
        "model = models.Sequential()\n",
        "model.add(layers.Conv2D(16,(3,3),input_shape=(256,256,3),activation='relu'))\n",
        "model.add(layers.Conv2D(32,(3,3),activation='relu'))\n",
        "model.add(layers.Conv2D(64,(3,3),activation='relu'))\n",
        "model.add(layers.MaxPooling2D(pool_size=(2,2)))\n",
        "model.add(layers.Conv2D(16,(3,3),activation='relu'))\n",
        "model.add(layers.Conv2D(32,(3,3),activation='relu'))\n",
        "model.add(layers.Conv2D(64,(3,3),activation='relu'))\n",
        "model.add(layers.MaxPooling2D(pool_size=(2,2)))\n",
        "model.add(layers.Conv2D(16,(3,3),activation='relu'))\n",
        "model.add(layers.Conv2D(32,(3,3),activation='relu'))\n",
        "model.add(layers.Conv2D(64,(3,3),activation='relu'))\n",
        "model.add(layers.MaxPooling2D(pool_size=(2,2)))\n",
        "model.add(layers.Conv2D(16,(3,3),activation='relu'))\n",
        "model.add(layers.Conv2D(32,(3,3),activation='relu'))\n",
        "model.add(layers.Conv2D(64,(3,3),activation='relu'))\n",
        "model.add(layers.MaxPooling2D(pool_size=(2,2)))\n",
        "\n",
        "model.add(layers.Flatten())\n",
        "model.add(layers.Dense(10,activation='softmax'))\n",
        "\n",
        "model.compile(loss='binary_crossentropy', optimizer='adam', metrics=['accuracy'])"
      ],
      "execution_count": 0,
      "outputs": []
    },
    {
      "metadata": {
        "id": "Rvq1CFY3AE2_",
        "colab_type": "code",
        "colab": {
          "base_uri": "https://localhost:8080/",
          "height": 748
        },
        "outputId": "9c827d16-8faa-46c9-a097-c2551b09535d"
      },
      "cell_type": "code",
      "source": [
        "model.summary()"
      ],
      "execution_count": 18,
      "outputs": [
        {
          "output_type": "stream",
          "text": [
            "_________________________________________________________________\n",
            "Layer (type)                 Output Shape              Param #   \n",
            "=================================================================\n",
            "conv2d_13 (Conv2D)           (None, 254, 254, 16)      448       \n",
            "_________________________________________________________________\n",
            "conv2d_14 (Conv2D)           (None, 252, 252, 32)      4640      \n",
            "_________________________________________________________________\n",
            "conv2d_15 (Conv2D)           (None, 250, 250, 64)      18496     \n",
            "_________________________________________________________________\n",
            "max_pooling2d_5 (MaxPooling2 (None, 125, 125, 64)      0         \n",
            "_________________________________________________________________\n",
            "conv2d_16 (Conv2D)           (None, 123, 123, 16)      9232      \n",
            "_________________________________________________________________\n",
            "conv2d_17 (Conv2D)           (None, 121, 121, 32)      4640      \n",
            "_________________________________________________________________\n",
            "conv2d_18 (Conv2D)           (None, 119, 119, 64)      18496     \n",
            "_________________________________________________________________\n",
            "max_pooling2d_6 (MaxPooling2 (None, 59, 59, 64)        0         \n",
            "_________________________________________________________________\n",
            "conv2d_19 (Conv2D)           (None, 57, 57, 16)        9232      \n",
            "_________________________________________________________________\n",
            "conv2d_20 (Conv2D)           (None, 55, 55, 32)        4640      \n",
            "_________________________________________________________________\n",
            "conv2d_21 (Conv2D)           (None, 53, 53, 64)        18496     \n",
            "_________________________________________________________________\n",
            "max_pooling2d_7 (MaxPooling2 (None, 26, 26, 64)        0         \n",
            "_________________________________________________________________\n",
            "conv2d_22 (Conv2D)           (None, 24, 24, 16)        9232      \n",
            "_________________________________________________________________\n",
            "conv2d_23 (Conv2D)           (None, 22, 22, 32)        4640      \n",
            "_________________________________________________________________\n",
            "conv2d_24 (Conv2D)           (None, 20, 20, 64)        18496     \n",
            "_________________________________________________________________\n",
            "max_pooling2d_8 (MaxPooling2 (None, 10, 10, 64)        0         \n",
            "_________________________________________________________________\n",
            "flatten_2 (Flatten)          (None, 6400)              0         \n",
            "_________________________________________________________________\n",
            "dense_2 (Dense)              (None, 10)                64010     \n",
            "=================================================================\n",
            "Total params: 184,698\n",
            "Trainable params: 184,698\n",
            "Non-trainable params: 0\n",
            "_________________________________________________________________\n"
          ],
          "name": "stdout"
        }
      ]
    },
    {
      "metadata": {
        "id": "aoc6aRv8AHxC",
        "colab_type": "code",
        "colab": {
          "base_uri": "https://localhost:8080/",
          "height": 3505
        },
        "outputId": "58fb60de-f7ec-407a-ab1a-7d79e22deee9"
      },
      "cell_type": "code",
      "source": [
        "model.fit_generator(train_set,\n",
        "                   steps_per_epoch=20,\n",
        "                   epochs=100)"
      ],
      "execution_count": 19,
      "outputs": [
        {
          "output_type": "stream",
          "text": [
            "WARNING:tensorflow:From /usr/local/lib/python3.6/dist-packages/tensorflow/python/ops/math_ops.py:3066: to_int32 (from tensorflow.python.ops.math_ops) is deprecated and will be removed in a future version.\n",
            "Instructions for updating:\n",
            "Use tf.cast instead.\n",
            "Epoch 1/100\n",
            "20/20 [==============================] - 11s 542ms/step - loss: 0.3161 - acc: 0.9000\n",
            "Epoch 2/100\n",
            "20/20 [==============================] - 6s 303ms/step - loss: 0.3123 - acc: 0.9000\n",
            "Epoch 3/100\n",
            "20/20 [==============================] - 6s 325ms/step - loss: 0.3075 - acc: 0.9000\n",
            "Epoch 4/100\n",
            "20/20 [==============================] - 6s 284ms/step - loss: 0.3052 - acc: 0.9002\n",
            "Epoch 5/100\n",
            "20/20 [==============================] - 6s 279ms/step - loss: 0.3019 - acc: 0.8992\n",
            "Epoch 6/100\n",
            "20/20 [==============================] - 6s 280ms/step - loss: 0.2957 - acc: 0.9005\n",
            "Epoch 7/100\n",
            "20/20 [==============================] - 6s 279ms/step - loss: 0.2963 - acc: 0.9000\n",
            "Epoch 8/100\n",
            "20/20 [==============================] - 6s 280ms/step - loss: 0.2986 - acc: 0.9002\n",
            "Epoch 9/100\n",
            "20/20 [==============================] - 6s 282ms/step - loss: 0.2950 - acc: 0.9002\n",
            "Epoch 10/100\n",
            "20/20 [==============================] - 6s 282ms/step - loss: 0.2889 - acc: 0.9020\n",
            "Epoch 11/100\n",
            "20/20 [==============================] - 6s 280ms/step - loss: 0.2837 - acc: 0.9005\n",
            "Epoch 12/100\n",
            "20/20 [==============================] - 6s 280ms/step - loss: 0.2970 - acc: 0.9002\n",
            "Epoch 13/100\n",
            "20/20 [==============================] - 6s 280ms/step - loss: 0.3001 - acc: 0.9000\n",
            "Epoch 14/100\n",
            "20/20 [==============================] - 6s 288ms/step - loss: 0.2876 - acc: 0.9008\n",
            "Epoch 15/100\n",
            "20/20 [==============================] - 6s 280ms/step - loss: 0.2793 - acc: 0.9010\n",
            "Epoch 16/100\n",
            "20/20 [==============================] - 6s 304ms/step - loss: 0.2747 - acc: 0.9027\n",
            "Epoch 17/100\n",
            "20/20 [==============================] - 6s 322ms/step - loss: 0.2693 - acc: 0.9022\n",
            "Epoch 18/100\n",
            "20/20 [==============================] - 6s 279ms/step - loss: 0.2730 - acc: 0.8992\n",
            "Epoch 19/100\n",
            "20/20 [==============================] - 6s 278ms/step - loss: 0.2702 - acc: 0.9007\n",
            "Epoch 20/100\n",
            "20/20 [==============================] - 6s 279ms/step - loss: 0.2568 - acc: 0.9057\n",
            "Epoch 21/100\n",
            "20/20 [==============================] - 6s 278ms/step - loss: 0.2602 - acc: 0.9065\n",
            "Epoch 22/100\n",
            "20/20 [==============================] - 6s 278ms/step - loss: 0.2635 - acc: 0.8995\n",
            "Epoch 23/100\n",
            "20/20 [==============================] - 6s 280ms/step - loss: 0.2637 - acc: 0.9005\n",
            "Epoch 24/100\n",
            "20/20 [==============================] - 6s 279ms/step - loss: 0.2538 - acc: 0.9072\n",
            "Epoch 25/100\n",
            "20/20 [==============================] - 6s 281ms/step - loss: 0.2569 - acc: 0.9047\n",
            "Epoch 26/100\n",
            "20/20 [==============================] - 6s 279ms/step - loss: 0.2534 - acc: 0.9042\n",
            "Epoch 27/100\n",
            "20/20 [==============================] - 6s 279ms/step - loss: 0.2460 - acc: 0.9062\n",
            "Epoch 28/100\n",
            "20/20 [==============================] - 5s 271ms/step - loss: 0.2465 - acc: 0.9050\n",
            "Epoch 29/100\n",
            "20/20 [==============================] - 6s 279ms/step - loss: 0.2620 - acc: 0.9037\n",
            "Epoch 30/100\n",
            "20/20 [==============================] - 6s 294ms/step - loss: 0.2398 - acc: 0.9065\n",
            "Epoch 31/100\n",
            "20/20 [==============================] - 7s 326ms/step - loss: 0.2344 - acc: 0.9087\n",
            "Epoch 32/100\n",
            "20/20 [==============================] - 7s 330ms/step - loss: 0.2398 - acc: 0.9117\n",
            "Epoch 33/100\n",
            "20/20 [==============================] - 6s 290ms/step - loss: 0.2488 - acc: 0.9080\n",
            "Epoch 34/100\n",
            "20/20 [==============================] - 6s 281ms/step - loss: 0.2545 - acc: 0.9057\n",
            "Epoch 35/100\n",
            "20/20 [==============================] - 6s 280ms/step - loss: 0.2483 - acc: 0.9075\n",
            "Epoch 36/100\n",
            "20/20 [==============================] - 6s 280ms/step - loss: 0.2451 - acc: 0.9075\n",
            "Epoch 37/100\n",
            "20/20 [==============================] - 6s 279ms/step - loss: 0.2402 - acc: 0.9077\n",
            "Epoch 38/100\n",
            "20/20 [==============================] - 6s 278ms/step - loss: 0.2586 - acc: 0.9100\n",
            "Epoch 39/100\n",
            "20/20 [==============================] - 6s 279ms/step - loss: 0.2513 - acc: 0.9035\n",
            "Epoch 40/100\n",
            "20/20 [==============================] - 6s 278ms/step - loss: 0.2486 - acc: 0.9045\n",
            "Epoch 41/100\n",
            "20/20 [==============================] - 6s 281ms/step - loss: 0.2286 - acc: 0.9120\n",
            "Epoch 42/100\n",
            "20/20 [==============================] - 5s 272ms/step - loss: 0.2377 - acc: 0.9122\n",
            "Epoch 43/100\n",
            "20/20 [==============================] - 6s 281ms/step - loss: 0.2274 - acc: 0.9145\n",
            "Epoch 44/100\n",
            "20/20 [==============================] - 6s 296ms/step - loss: 0.2187 - acc: 0.9135\n",
            "Epoch 45/100\n",
            "20/20 [==============================] - 7s 330ms/step - loss: 0.2127 - acc: 0.9167\n",
            "Epoch 46/100\n",
            "20/20 [==============================] - 6s 287ms/step - loss: 0.2281 - acc: 0.9118\n",
            "Epoch 47/100\n",
            "20/20 [==============================] - 6s 279ms/step - loss: 0.2193 - acc: 0.9182\n",
            "Epoch 48/100\n",
            "20/20 [==============================] - 6s 281ms/step - loss: 0.2181 - acc: 0.9165\n",
            "Epoch 49/100\n",
            "20/20 [==============================] - 6s 282ms/step - loss: 0.2308 - acc: 0.9070\n",
            "Epoch 50/100\n",
            "20/20 [==============================] - 6s 281ms/step - loss: 0.2176 - acc: 0.9172\n",
            "Epoch 51/100\n",
            "20/20 [==============================] - 6s 281ms/step - loss: 0.2216 - acc: 0.9125\n",
            "Epoch 52/100\n",
            "20/20 [==============================] - 6s 280ms/step - loss: 0.2069 - acc: 0.9200\n",
            "Epoch 53/100\n",
            "20/20 [==============================] - 6s 280ms/step - loss: 0.2150 - acc: 0.9157\n",
            "Epoch 54/100\n",
            "20/20 [==============================] - 6s 280ms/step - loss: 0.2071 - acc: 0.9215\n",
            "Epoch 55/100\n",
            "20/20 [==============================] - 6s 281ms/step - loss: 0.2195 - acc: 0.9092\n",
            "Epoch 56/100\n",
            "20/20 [==============================] - 6s 283ms/step - loss: 0.2152 - acc: 0.9173\n",
            "Epoch 57/100\n",
            "20/20 [==============================] - 6s 308ms/step - loss: 0.2086 - acc: 0.9182\n",
            "Epoch 58/100\n",
            "20/20 [==============================] - 6s 299ms/step - loss: 0.2076 - acc: 0.9190\n",
            "Epoch 59/100\n",
            "20/20 [==============================] - 6s 323ms/step - loss: 0.2228 - acc: 0.9122\n",
            "Epoch 60/100\n",
            "20/20 [==============================] - 6s 285ms/step - loss: 0.2019 - acc: 0.9185\n",
            "Epoch 61/100\n",
            "20/20 [==============================] - 6s 281ms/step - loss: 0.2259 - acc: 0.9137\n",
            "Epoch 62/100\n",
            "20/20 [==============================] - 6s 281ms/step - loss: 0.1939 - acc: 0.9210\n",
            "Epoch 63/100\n",
            "20/20 [==============================] - 6s 281ms/step - loss: 0.2130 - acc: 0.9162\n",
            "Epoch 64/100\n",
            "20/20 [==============================] - 6s 280ms/step - loss: 0.2069 - acc: 0.9195\n",
            "Epoch 65/100\n",
            "20/20 [==============================] - 6s 280ms/step - loss: 0.2160 - acc: 0.9140\n",
            "Epoch 66/100\n",
            "20/20 [==============================] - 6s 282ms/step - loss: 0.2045 - acc: 0.9202\n",
            "Epoch 67/100\n",
            "20/20 [==============================] - 6s 282ms/step - loss: 0.2204 - acc: 0.9110\n",
            "Epoch 68/100\n",
            "20/20 [==============================] - 6s 281ms/step - loss: 0.1964 - acc: 0.9245\n",
            "Epoch 69/100\n",
            "20/20 [==============================] - 5s 269ms/step - loss: 0.1873 - acc: 0.9259\n",
            "Epoch 70/100\n",
            "20/20 [==============================] - 6s 282ms/step - loss: 0.2024 - acc: 0.9222\n",
            "Epoch 71/100\n",
            "20/20 [==============================] - 6s 280ms/step - loss: 0.1980 - acc: 0.9187\n",
            "Epoch 72/100\n",
            "20/20 [==============================] - 6s 294ms/step - loss: 0.1913 - acc: 0.9277\n",
            "Epoch 73/100\n",
            "20/20 [==============================] - 6s 323ms/step - loss: 0.2106 - acc: 0.9172\n",
            "Epoch 74/100\n",
            "20/20 [==============================] - 6s 290ms/step - loss: 0.2061 - acc: 0.9200\n",
            "Epoch 75/100\n",
            "20/20 [==============================] - 6s 279ms/step - loss: 0.2010 - acc: 0.9190\n",
            "Epoch 76/100\n",
            "20/20 [==============================] - 6s 280ms/step - loss: 0.1946 - acc: 0.9202\n",
            "Epoch 77/100\n",
            "20/20 [==============================] - 6s 279ms/step - loss: 0.2010 - acc: 0.9215\n",
            "Epoch 78/100\n",
            "20/20 [==============================] - 6s 281ms/step - loss: 0.1964 - acc: 0.9205\n",
            "Epoch 79/100\n",
            "20/20 [==============================] - 6s 277ms/step - loss: 0.2002 - acc: 0.9207\n",
            "Epoch 80/100\n",
            "20/20 [==============================] - 6s 278ms/step - loss: 0.2098 - acc: 0.9165\n",
            "Epoch 81/100\n",
            "20/20 [==============================] - 6s 281ms/step - loss: 0.2163 - acc: 0.9152\n",
            "Epoch 82/100\n",
            "20/20 [==============================] - 6s 279ms/step - loss: 0.1973 - acc: 0.9197\n",
            "Epoch 83/100\n",
            "20/20 [==============================] - 5s 271ms/step - loss: 0.2049 - acc: 0.9161\n",
            "Epoch 84/100\n",
            "20/20 [==============================] - 6s 279ms/step - loss: 0.1947 - acc: 0.9210\n",
            "Epoch 85/100\n",
            "20/20 [==============================] - 6s 280ms/step - loss: 0.1906 - acc: 0.9242\n",
            "Epoch 86/100\n",
            "20/20 [==============================] - 7s 327ms/step - loss: 0.1948 - acc: 0.9242\n",
            "Epoch 87/100\n",
            "20/20 [==============================] - 6s 325ms/step - loss: 0.1896 - acc: 0.9222\n",
            "Epoch 88/100\n",
            "20/20 [==============================] - 6s 295ms/step - loss: 0.1863 - acc: 0.9230\n",
            "Epoch 89/100\n",
            "20/20 [==============================] - 6s 280ms/step - loss: 0.1849 - acc: 0.9275\n",
            "Epoch 90/100\n",
            "20/20 [==============================] - 6s 278ms/step - loss: 0.2026 - acc: 0.9157\n",
            "Epoch 91/100\n",
            "20/20 [==============================] - 6s 279ms/step - loss: 0.1859 - acc: 0.9252\n",
            "Epoch 92/100\n",
            "20/20 [==============================] - 6s 280ms/step - loss: 0.2062 - acc: 0.9202\n",
            "Epoch 93/100\n",
            "20/20 [==============================] - 6s 279ms/step - loss: 0.1910 - acc: 0.9275\n",
            "Epoch 94/100\n",
            "20/20 [==============================] - 6s 281ms/step - loss: 0.1864 - acc: 0.9235\n",
            "Epoch 95/100\n",
            "20/20 [==============================] - 6s 281ms/step - loss: 0.1996 - acc: 0.9220\n",
            "Epoch 96/100\n",
            "20/20 [==============================] - 6s 281ms/step - loss: 0.1955 - acc: 0.9242\n",
            "Epoch 97/100\n",
            "20/20 [==============================] - 5s 272ms/step - loss: 0.1933 - acc: 0.9276\n",
            "Epoch 98/100\n",
            "20/20 [==============================] - 6s 280ms/step - loss: 0.1982 - acc: 0.9212\n",
            "Epoch 99/100\n",
            "20/20 [==============================] - 6s 280ms/step - loss: 0.1683 - acc: 0.9345\n",
            "Epoch 100/100\n",
            "20/20 [==============================] - 6s 285ms/step - loss: 0.1895 - acc: 0.9215\n"
          ],
          "name": "stdout"
        },
        {
          "output_type": "execute_result",
          "data": {
            "text/plain": [
              "<keras.callbacks.History at 0x7f0fbbb00e10>"
            ]
          },
          "metadata": {
            "tags": []
          },
          "execution_count": 19
        }
      ]
    },
    {
      "metadata": {
        "id": "FHYVm4xMASDD",
        "colab_type": "code",
        "colab": {}
      },
      "cell_type": "code",
      "source": [
        "image_1, labels_1 = next(iter(train_set))"
      ],
      "execution_count": 0,
      "outputs": []
    },
    {
      "metadata": {
        "id": "k75k5iRnDGuc",
        "colab_type": "code",
        "colab": {
          "base_uri": "https://localhost:8080/",
          "height": 286
        },
        "outputId": "bb940d83-063d-488a-97ea-05a24e0debc6"
      },
      "cell_type": "code",
      "source": [
        "plt.imshow(image_1[6])"
      ],
      "execution_count": 24,
      "outputs": [
        {
          "output_type": "execute_result",
          "data": {
            "text/plain": [
              "<matplotlib.image.AxesImage at 0x7f0fb04155f8>"
            ]
          },
          "metadata": {
            "tags": []
          },
          "execution_count": 24
        },
        {
          "output_type": "display_data",
          "data": {
            "image/png": "[encoded data removed]",
            "text/plain": [
              "<Figure size 432x288 with 1 Axes>"
            ]
          },
          "metadata": {
            "tags": []
          }
        }
      ]
    },
    {
      "metadata": {
        "id": "1gvL6u93DJF0",
        "colab_type": "code",
        "colab": {}
      },
      "cell_type": "code",
      "source": [
        "import numpy as np"
      ],
      "execution_count": 0,
      "outputs": []
    },
    {
      "metadata": {
        "id": "rrBsv0weDNOR",
        "colab_type": "code",
        "colab": {
          "base_uri": "https://localhost:8080/",
          "height": 34
        },
        "outputId": "90301686-92a3-4b00-921d-cb918853493c"
      },
      "cell_type": "code",
      "source": [
        "np.argmax(model.predict(image_1[6].reshape(1,256,256,3)))"
      ],
      "execution_count": 27,
      "outputs": [
        {
          "output_type": "execute_result",
          "data": {
            "text/plain": [
              "0"
            ]
          },
          "metadata": {
            "tags": []
          },
          "execution_count": 27
        }
      ]
    },
    {
      "metadata": {
        "id": "MS0eZcdADPDY",
        "colab_type": "code",
        "colab": {}
      },
      "cell_type": "code",
      "source": [
        "model.save('model6.h5')"
      ],
      "execution_count": 0,
      "outputs": []
    },
    {
      "metadata": {
        "id": "PE8UMUDXDiK0",
        "colab_type": "code",
        "colab": {
          "base_uri": "https://localhost:8080/",
          "height": 34
        },
        "outputId": "6d144ee6-c861-43a3-e004-8118cff07bb8"
      },
      "cell_type": "code",
      "source": [
        "!ls\n"
      ],
      "execution_count": 30,
      "outputs": [
        {
          "output_type": "stream",
          "text": [
            "gdrive\tmodel6.h  model6.h5  sample_data  sketches\n"
          ],
          "name": "stdout"
        }
      ]
    },
    {
      "metadata": {
        "id": "GimWz7pCD63a",
        "colab_type": "code",
        "colab": {}
      },
      "cell_type": "code",
      "source": [
        "!rm model6.h"
      ],
      "execution_count": 0,
      "outputs": []
    },
    {
      "metadata": {
        "id": "_A92Y9VhD-Xc",
        "colab_type": "code",
        "colab": {
          "base_uri": "https://localhost:8080/",
          "height": 34
        },
        "outputId": "dd7ced82-e50f-48de-b823-df2e712d1dab"
      },
      "cell_type": "code",
      "source": [
        "!ls"
      ],
      "execution_count": 32,
      "outputs": [
        {
          "output_type": "stream",
          "text": [
            "gdrive\tmodel6.h5  sample_data\tsketches\n"
          ],
          "name": "stdout"
        }
      ]
    },
    {
      "metadata": {
        "id": "xG0BLwFEEAmD",
        "colab_type": "code",
        "colab": {}
      },
      "cell_type": "code",
      "source": [
        "!cp -r \"model6.h5\" '/content/gdrive/My Drive/SketchyGAN/'"
      ],
      "execution_count": 0,
      "outputs": []
    },
    {
      "metadata": {
        "id": "ImdwWvd8EW8S",
        "colab_type": "code",
        "colab": {}
      },
      "cell_type": "code",
      "source": [
        ""
      ],
      "execution_count": 0,
      "outputs": []
    }
  ]
}